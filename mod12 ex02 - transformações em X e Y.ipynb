{
 "cells": [
  {
   "cell_type": "markdown",
   "metadata": {},
   "source": [
    "# Regressão 01 - tarefa 02 - transformações em X e Y"
   ]
  },
  {
   "cell_type": "code",
   "execution_count": 36,
   "metadata": {},
   "outputs": [],
   "source": [
    "import pandas as pd\n",
    "import seaborn as sns\n",
    "import matplotlib.pyplot as plt\n",
    "import numpy as np\n",
    "\n",
    "import statsmodels.api as sm\n",
    "\n",
    "import warnings\n",
    "#Algumas células estavam retornando com um aviso, por isso o uso dessa biblioteca\n",
    "warnings.filterwarnings('ignore', message='omni_normtest is not valid with less than 8 observations')\n"
   ]
  },
  {
   "cell_type": "markdown",
   "metadata": {},
   "source": [
    "### 1. Melhorando o ajuste no percentual de gorjetas\n",
    "\n",
    "a. Vamos partir do modelo feito na última tarefa, o que relaciona ```tip_pct``` e ```net_bill```. Carregue a base, os pacotes e reproduza este modelo aqui."
   ]
  },
  {
   "cell_type": "code",
   "execution_count": 9,
   "metadata": {},
   "outputs": [
    {
     "data": {
      "text/html": [
       "<div>\n",
       "<style scoped>\n",
       "    .dataframe tbody tr th:only-of-type {\n",
       "        vertical-align: middle;\n",
       "    }\n",
       "\n",
       "    .dataframe tbody tr th {\n",
       "        vertical-align: top;\n",
       "    }\n",
       "\n",
       "    .dataframe thead th {\n",
       "        text-align: right;\n",
       "    }\n",
       "</style>\n",
       "<table border=\"1\" class=\"dataframe\">\n",
       "  <thead>\n",
       "    <tr style=\"text-align: right;\">\n",
       "      <th></th>\n",
       "      <th>Unnamed: 0</th>\n",
       "      <th>total_bill</th>\n",
       "      <th>tip</th>\n",
       "      <th>sex</th>\n",
       "      <th>smoker</th>\n",
       "      <th>day</th>\n",
       "      <th>time</th>\n",
       "      <th>size</th>\n",
       "      <th>tips_pct</th>\n",
       "      <th>net_bill</th>\n",
       "    </tr>\n",
       "  </thead>\n",
       "  <tbody>\n",
       "    <tr>\n",
       "      <th>0</th>\n",
       "      <td>0</td>\n",
       "      <td>16.99</td>\n",
       "      <td>1.01</td>\n",
       "      <td>Female</td>\n",
       "      <td>No</td>\n",
       "      <td>Sun</td>\n",
       "      <td>Dinner</td>\n",
       "      <td>2</td>\n",
       "      <td>0.063204</td>\n",
       "      <td>15.98</td>\n",
       "    </tr>\n",
       "    <tr>\n",
       "      <th>1</th>\n",
       "      <td>1</td>\n",
       "      <td>10.34</td>\n",
       "      <td>1.66</td>\n",
       "      <td>Male</td>\n",
       "      <td>No</td>\n",
       "      <td>Sun</td>\n",
       "      <td>Dinner</td>\n",
       "      <td>3</td>\n",
       "      <td>0.191244</td>\n",
       "      <td>8.68</td>\n",
       "    </tr>\n",
       "    <tr>\n",
       "      <th>2</th>\n",
       "      <td>2</td>\n",
       "      <td>21.01</td>\n",
       "      <td>3.50</td>\n",
       "      <td>Male</td>\n",
       "      <td>No</td>\n",
       "      <td>Sun</td>\n",
       "      <td>Dinner</td>\n",
       "      <td>3</td>\n",
       "      <td>0.199886</td>\n",
       "      <td>17.51</td>\n",
       "    </tr>\n",
       "    <tr>\n",
       "      <th>3</th>\n",
       "      <td>3</td>\n",
       "      <td>23.68</td>\n",
       "      <td>3.31</td>\n",
       "      <td>Male</td>\n",
       "      <td>No</td>\n",
       "      <td>Sun</td>\n",
       "      <td>Dinner</td>\n",
       "      <td>2</td>\n",
       "      <td>0.162494</td>\n",
       "      <td>20.37</td>\n",
       "    </tr>\n",
       "    <tr>\n",
       "      <th>4</th>\n",
       "      <td>4</td>\n",
       "      <td>24.59</td>\n",
       "      <td>3.61</td>\n",
       "      <td>Female</td>\n",
       "      <td>No</td>\n",
       "      <td>Sun</td>\n",
       "      <td>Dinner</td>\n",
       "      <td>4</td>\n",
       "      <td>0.172069</td>\n",
       "      <td>20.98</td>\n",
       "    </tr>\n",
       "  </tbody>\n",
       "</table>\n",
       "</div>"
      ],
      "text/plain": [
       "   Unnamed: 0  total_bill   tip     sex smoker  day    time  size  tips_pct  \\\n",
       "0           0       16.99  1.01  Female     No  Sun  Dinner     2  0.063204   \n",
       "1           1       10.34  1.66    Male     No  Sun  Dinner     3  0.191244   \n",
       "2           2       21.01  3.50    Male     No  Sun  Dinner     3  0.199886   \n",
       "3           3       23.68  3.31    Male     No  Sun  Dinner     2  0.162494   \n",
       "4           4       24.59  3.61  Female     No  Sun  Dinner     4  0.172069   \n",
       "\n",
       "   net_bill  \n",
       "0     15.98  \n",
       "1      8.68  \n",
       "2     17.51  \n",
       "3     20.37  \n",
       "4     20.98  "
      ]
     },
     "execution_count": 9,
     "metadata": {},
     "output_type": "execute_result"
    }
   ],
   "source": [
    "df = pd.read_csv('dataFrame.csv')\n",
    "df"
   ]
  },
  {
   "cell_type": "markdown",
   "metadata": {},
   "source": [
    "### 2. ajuste o modelo de ```tip_pct``` em função do logaritmo de ```net_bill```."
   ]
  },
  {
   "cell_type": "code",
   "execution_count": 20,
   "metadata": {},
   "outputs": [],
   "source": [
    "df['log_net_bill'] = np.log(df['net_bill'])"
   ]
  },
  {
   "cell_type": "code",
   "execution_count": 38,
   "metadata": {},
   "outputs": [
    {
     "name": "stdout",
     "output_type": "stream",
     "text": [
      "                            OLS Regression Results                            \n",
      "==============================================================================\n",
      "Dep. Variable:               tips_pct   R-squared:                       0.021\n",
      "Model:                            OLS   Adj. R-squared:                 -0.305\n",
      "Method:                 Least Squares   F-statistic:                   0.06586\n",
      "Date:                Fri, 03 Jan 2025   Prob (F-statistic):              0.814\n",
      "Time:                        13:49:02   Log-Likelihood:                 8.0271\n",
      "No. Observations:                   5   AIC:                            -12.05\n",
      "Df Residuals:                       3   BIC:                            -12.84\n",
      "Df Model:                           1                                         \n",
      "Covariance Type:            nonrobust                                         \n",
      "================================================================================\n",
      "                   coef    std err          t      P>|t|      [0.025      0.975]\n",
      "--------------------------------------------------------------------------------\n",
      "const            0.2200      0.244      0.901      0.434      -0.557       0.997\n",
      "log_net_bill    -0.0225      0.088     -0.257      0.814      -0.301       0.256\n",
      "==============================================================================\n",
      "Omnibus:                          nan   Durbin-Watson:                   1.265\n",
      "Prob(Omnibus):                    nan   Jarque-Bera (JB):                1.394\n",
      "Skew:                          -1.294   Prob(JB):                        0.498\n",
      "Kurtosis:                       3.017   Cond. No.                         27.3\n",
      "==============================================================================\n",
      "\n",
      "Notes:\n",
      "[1] Standard Errors assume that the covariance matrix of the errors is correctly specified.\n"
     ]
    }
   ],
   "source": [
    "y = df['tips_pct'] #Target\n",
    "X = df['log_net_bill'] \n",
    "\n",
    "X = sm.add_constant(X)\n",
    "\n",
    "model = sm.OLS(y, X).fit()\n",
    "print(model.summary())"
   ]
  },
  {
   "cell_type": "markdown",
   "metadata": {},
   "source": [
    "###  3. ajuste o modelo de ```tip_pct``` em função de um polinômio de segundo grau em ```net_bill```."
   ]
  },
  {
   "cell_type": "code",
   "execution_count": 40,
   "metadata": {},
   "outputs": [],
   "source": [
    "df['net_bill_squared'] = df['net_bill'] ** 2"
   ]
  },
  {
   "cell_type": "code",
   "execution_count": 42,
   "metadata": {},
   "outputs": [],
   "source": [
    "y = df['tips_pct']\n",
    "X = df[['net_bill', 'net_bill_squared']]"
   ]
  },
  {
   "cell_type": "code",
   "execution_count": 44,
   "metadata": {},
   "outputs": [
    {
     "name": "stdout",
     "output_type": "stream",
     "text": [
      "                            OLS Regression Results                            \n",
      "==============================================================================\n",
      "Dep. Variable:               tips_pct   R-squared:                       0.310\n",
      "Model:                            OLS   Adj. R-squared:                 -0.380\n",
      "Method:                 Least Squares   F-statistic:                    0.4489\n",
      "Date:                Fri, 03 Jan 2025   Prob (F-statistic):              0.690\n",
      "Time:                        13:49:06   Log-Likelihood:                 8.8998\n",
      "No. Observations:                   5   AIC:                            -11.80\n",
      "Df Residuals:                       2   BIC:                            -12.97\n",
      "Df Model:                           2                                         \n",
      "Covariance Type:            nonrobust                                         \n",
      "====================================================================================\n",
      "                       coef    std err          t      P>|t|      [0.025      0.975]\n",
      "------------------------------------------------------------------------------------\n",
      "const                0.5077      0.375      1.355      0.308      -1.104       2.120\n",
      "net_bill            -0.0520      0.055     -0.947      0.444      -0.288       0.184\n",
      "net_bill_squared     0.0017      0.002      0.937      0.447      -0.006       0.010\n",
      "==============================================================================\n",
      "Omnibus:                          nan   Durbin-Watson:                   1.684\n",
      "Prob(Omnibus):                    nan   Jarque-Bera (JB):                0.219\n",
      "Skew:                           0.448   Prob(JB):                        0.896\n",
      "Kurtosis:                       2.501   Cond. No.                     4.28e+03\n",
      "==============================================================================\n",
      "\n",
      "Notes:\n",
      "[1] Standard Errors assume that the covariance matrix of the errors is correctly specified.\n",
      "[2] The condition number is large, 4.28e+03. This might indicate that there are\n",
      "strong multicollinearity or other numerical problems.\n"
     ]
    }
   ],
   "source": [
    "X = sm.add_constant(X)\n",
    "\n",
    "model = sm.OLS(y, X).fit()\n",
    "print(model.summary())"
   ]
  },
  {
   "cell_type": "markdown",
   "metadata": {},
   "source": [
    "###  4. ajuste um modelo no log do ```tip_pct``` em função de ```net_bill```. Calcule o $R^2$ também em ```tip_pct```"
   ]
  },
  {
   "cell_type": "code",
   "execution_count": 46,
   "metadata": {},
   "outputs": [],
   "source": [
    "df['log_tip_pct'] = np.log(df['tips_pct'])\n",
    "\n",
    "y_log = df['log_tip_pct']\n",
    "X = df['net_bill']"
   ]
  },
  {
   "cell_type": "code",
   "execution_count": 48,
   "metadata": {},
   "outputs": [],
   "source": [
    "X = sm.add_constant(X)\n",
    "\n",
    "model_log = sm.OLS(y_log, X).fit()"
   ]
  },
  {
   "cell_type": "code",
   "execution_count": 50,
   "metadata": {},
   "outputs": [
    {
     "name": "stdout",
     "output_type": "stream",
     "text": [
      "Resumo do modelo log(tip_pct) ~ net_bill\n",
      "                            OLS Regression Results                            \n",
      "==============================================================================\n",
      "Dep. Variable:            log_tip_pct   R-squared:                       0.001\n",
      "Model:                            OLS   Adj. R-squared:                 -0.333\n",
      "Method:                 Least Squares   F-statistic:                  0.001520\n",
      "Date:                Fri, 03 Jan 2025   Prob (F-statistic):              0.971\n",
      "Time:                        13:51:21   Log-Likelihood:                -2.8365\n",
      "No. Observations:                   5   AIC:                             9.673\n",
      "Df Residuals:                       3   BIC:                             8.892\n",
      "Df Model:                           1                                         \n",
      "Covariance Type:            nonrobust                                         \n",
      "==============================================================================\n",
      "                 coef    std err          t      P>|t|      [0.025      0.975]\n",
      "------------------------------------------------------------------------------\n",
      "const         -1.8841      0.965     -1.953      0.146      -4.955       1.187\n",
      "net_bill      -0.0022      0.056     -0.039      0.971      -0.180       0.176\n",
      "==============================================================================\n",
      "Omnibus:                          nan   Durbin-Watson:                   1.361\n",
      "Prob(Omnibus):                    nan   Jarque-Bera (JB):                1.648\n",
      "Skew:                          -1.405   Prob(JB):                        0.439\n",
      "Kurtosis:                       3.125   Cond. No.                         67.9\n",
      "==============================================================================\n",
      "\n",
      "Notes:\n",
      "[1] Standard Errors assume that the covariance matrix of the errors is correctly specified.\n"
     ]
    }
   ],
   "source": [
    "print(\"Resumo do modelo log(tip_pct) ~ net_bill\")\n",
    "print(model_log.summary())"
   ]
  },
  {
   "cell_type": "code",
   "execution_count": 52,
   "metadata": {},
   "outputs": [
    {
     "name": "stdout",
     "output_type": "stream",
     "text": [
      "R² do modelo com log(tip_pct): 0.0005\n"
     ]
    }
   ],
   "source": [
    "r2_log = model_log.rsquared\n",
    "print(f\"R² do modelo com log(tip_pct): {r2_log:.4f}\")"
   ]
  },
  {
   "cell_type": "code",
   "execution_count": 54,
   "metadata": {},
   "outputs": [
    {
     "name": "stdout",
     "output_type": "stream",
     "text": [
      "R² do modelo original (tip_pct) ~ net_bill: 0.0066\n"
     ]
    }
   ],
   "source": [
    "y = df['tips_pct']\n",
    "model_original = sm.OLS(y, X).fit()\n",
    "\n",
    "# R² do modelo original\n",
    "r2_original = model_original.rsquared\n",
    "print(f\"R² do modelo original (tip_pct) ~ net_bill: {r2_original:.4f}\")"
   ]
  },
  {
   "cell_type": "markdown",
   "metadata": {},
   "source": [
    "###  5. ajuste um modelo no log do ```tip_pct``` em função do log de ```net_bill```. Calcule o $R^2$ também em ```tip_pct```."
   ]
  },
  {
   "cell_type": "code",
   "execution_count": 56,
   "metadata": {},
   "outputs": [
    {
     "name": "stdout",
     "output_type": "stream",
     "text": [
      "Resumo do modelo log(tip_pct) ~ log(net_bill)\n",
      "                            OLS Regression Results                            \n",
      "==============================================================================\n",
      "Dep. Variable:            log_tip_pct   R-squared:                       0.009\n",
      "Model:                            OLS   Adj. R-squared:                 -0.321\n",
      "Method:                 Least Squares   F-statistic:                   0.02759\n",
      "Date:                Fri, 03 Jan 2025   Prob (F-statistic):              0.879\n",
      "Time:                        13:53:31   Log-Likelihood:                -2.8149\n",
      "No. Observations:                   5   AIC:                             9.630\n",
      "Df Residuals:                       3   BIC:                             8.849\n",
      "Df Model:                           1                                         \n",
      "Covariance Type:            nonrobust                                         \n",
      "================================================================================\n",
      "                   coef    std err          t      P>|t|      [0.025      0.975]\n",
      "--------------------------------------------------------------------------------\n",
      "const           -1.5684      2.134     -0.735      0.516      -8.360       5.223\n",
      "log_net_bill    -0.1271      0.765     -0.166      0.879      -2.562       2.308\n",
      "==============================================================================\n",
      "Omnibus:                          nan   Durbin-Watson:                   1.237\n",
      "Prob(Omnibus):                    nan   Jarque-Bera (JB):                1.683\n",
      "Skew:                          -1.419   Prob(JB):                        0.431\n",
      "Kurtosis:                       3.152   Cond. No.                         27.3\n",
      "==============================================================================\n",
      "\n",
      "Notes:\n",
      "[1] Standard Errors assume that the covariance matrix of the errors is correctly specified.\n"
     ]
    }
   ],
   "source": [
    "df['log_tip_pct'] = np.log(df['tips_pct'])\n",
    "df['log_net_bill'] = np.log(df['net_bill'])\n",
    "\n",
    "y_log = df['log_tip_pct']\n",
    "X = df['log_net_bill']\n",
    "\n",
    "X = sm.add_constant(X)\n",
    "\n",
    "model_log = sm.OLS(y_log, X).fit()\n",
    "print(\"Resumo do modelo log(tip_pct) ~ log(net_bill)\")\n",
    "print(model_log.summary())"
   ]
  },
  {
   "cell_type": "code",
   "execution_count": 58,
   "metadata": {},
   "outputs": [
    {
     "name": "stdout",
     "output_type": "stream",
     "text": [
      "R² do modelo com log(tip_pct) ~ log(net_bill): 0.0091\n",
      "R² do modelo original (tip_pct) ~ log(net_bill): 0.0215\n"
     ]
    }
   ],
   "source": [
    "r2_log = model_log.rsquared\n",
    "print(f\"R² do modelo com log(tip_pct) ~ log(net_bill): {r2_log:.4f}\")\n",
    "\n",
    "y = df['tips_pct']\n",
    "model_original = sm.OLS(y, X).fit()\n",
    "\n",
    "# R² do modelo original\n",
    "r2_original = model_original.rsquared\n",
    "print(f\"R² do modelo original (tip_pct) ~ log(net_bill): {r2_original:.4f}\")"
   ]
  },
  {
   "cell_type": "markdown",
   "metadata": {},
   "source": [
    "###  6. qual modelo resultou no melhor ajuste?"
   ]
  },
  {
   "cell_type": "markdown",
   "metadata": {},
   "source": [
    "### R:\n",
    "O modelo que gerou o melhor ajuste foi o modelo original (tip_pct) ~ log(net_bill): 0.0215"
   ]
  },
  {
   "cell_type": "code",
   "execution_count": null,
   "metadata": {},
   "outputs": [],
   "source": []
  }
 ],
 "metadata": {
  "kernelspec": {
   "display_name": "Python 3 (ipykernel)",
   "language": "python",
   "name": "python3"
  },
  "language_info": {
   "codemirror_mode": {
    "name": "ipython",
    "version": 3
   },
   "file_extension": ".py",
   "mimetype": "text/x-python",
   "name": "python",
   "nbconvert_exporter": "python",
   "pygments_lexer": "ipython3",
   "version": "3.12.4"
  }
 },
 "nbformat": 4,
 "nbformat_minor": 4
}
